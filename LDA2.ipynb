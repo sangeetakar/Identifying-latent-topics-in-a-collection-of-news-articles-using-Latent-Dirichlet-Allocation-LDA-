{
  "cells": [
    {
      "cell_type": "markdown",
      "metadata": {
        "id": "view-in-github",
        "colab_type": "text"
      },
      "source": [
        "<a href=\"https://colab.research.google.com/github/sangeetakar/Identifying-latent-topics-in-a-collection-of-news-articles-using-Latent-Dirichlet-Allocation-LDA-/blob/main/LDA2.ipynb\" target=\"_parent\"><img src=\"https://colab.research.google.com/assets/colab-badge.svg\" alt=\"Open In Colab\"/></a>"
      ]
    },
    {
      "cell_type": "code",
      "execution_count": null,
      "metadata": {
        "colab": {
          "base_uri": "https://localhost:8080/"
        },
        "id": "0QjIZpYTQzs1",
        "outputId": "335f7cfb-3515-44a3-eeba-bb3e54c1793e"
      },
      "outputs": [
        {
          "output_type": "stream",
          "name": "stderr",
          "text": [
            "[nltk_data] Downloading package punkt to /root/nltk_data...\n",
            "[nltk_data]   Unzipping tokenizers/punkt.zip.\n",
            "[nltk_data] Downloading package wordnet to /root/nltk_data...\n",
            "[nltk_data] Downloading package stopwords to /root/nltk_data...\n",
            "[nltk_data]   Unzipping corpora/stopwords.zip.\n"
          ]
        },
        {
          "output_type": "stream",
          "name": "stdout",
          "text": [
            "Requirement already satisfied: seaborn in /usr/local/lib/python3.10/dist-packages (0.13.1)\n",
            "Collecting seaborn\n",
            "  Downloading seaborn-0.13.2-py3-none-any.whl (294 kB)\n",
            "\u001b[2K     \u001b[90m━━━━━━━━━━━━━━━━━━━━━━━━━━━━━━━━━━━━━━━━\u001b[0m \u001b[32m294.9/294.9 kB\u001b[0m \u001b[31m5.3 MB/s\u001b[0m eta \u001b[36m0:00:00\u001b[0m\n",
            "\u001b[?25hRequirement already satisfied: numpy!=1.24.0,>=1.20 in /usr/local/lib/python3.10/dist-packages (from seaborn) (1.25.2)\n",
            "Requirement already satisfied: pandas>=1.2 in /usr/local/lib/python3.10/dist-packages (from seaborn) (2.0.3)\n",
            "Requirement already satisfied: matplotlib!=3.6.1,>=3.4 in /usr/local/lib/python3.10/dist-packages (from seaborn) (3.7.1)\n",
            "Requirement already satisfied: contourpy>=1.0.1 in /usr/local/lib/python3.10/dist-packages (from matplotlib!=3.6.1,>=3.4->seaborn) (1.2.1)\n",
            "Requirement already satisfied: cycler>=0.10 in /usr/local/lib/python3.10/dist-packages (from matplotlib!=3.6.1,>=3.4->seaborn) (0.12.1)\n",
            "Requirement already satisfied: fonttools>=4.22.0 in /usr/local/lib/python3.10/dist-packages (from matplotlib!=3.6.1,>=3.4->seaborn) (4.51.0)\n",
            "Requirement already satisfied: kiwisolver>=1.0.1 in /usr/local/lib/python3.10/dist-packages (from matplotlib!=3.6.1,>=3.4->seaborn) (1.4.5)\n",
            "Requirement already satisfied: packaging>=20.0 in /usr/local/lib/python3.10/dist-packages (from matplotlib!=3.6.1,>=3.4->seaborn) (24.0)\n",
            "Requirement already satisfied: pillow>=6.2.0 in /usr/local/lib/python3.10/dist-packages (from matplotlib!=3.6.1,>=3.4->seaborn) (9.4.0)\n",
            "Requirement already satisfied: pyparsing>=2.3.1 in /usr/local/lib/python3.10/dist-packages (from matplotlib!=3.6.1,>=3.4->seaborn) (3.1.2)\n",
            "Requirement already satisfied: python-dateutil>=2.7 in /usr/local/lib/python3.10/dist-packages (from matplotlib!=3.6.1,>=3.4->seaborn) (2.8.2)\n",
            "Requirement already satisfied: pytz>=2020.1 in /usr/local/lib/python3.10/dist-packages (from pandas>=1.2->seaborn) (2023.4)\n",
            "Requirement already satisfied: tzdata>=2022.1 in /usr/local/lib/python3.10/dist-packages (from pandas>=1.2->seaborn) (2024.1)\n",
            "Requirement already satisfied: six>=1.5 in /usr/local/lib/python3.10/dist-packages (from python-dateutil>=2.7->matplotlib!=3.6.1,>=3.4->seaborn) (1.16.0)\n",
            "Installing collected packages: seaborn\n",
            "  Attempting uninstall: seaborn\n",
            "    Found existing installation: seaborn 0.13.1\n",
            "    Uninstalling seaborn-0.13.1:\n",
            "      Successfully uninstalled seaborn-0.13.1\n",
            "Successfully installed seaborn-0.13.2\n"
          ]
        }
      ],
      "source": [
        "import nltk\n",
        "nltk.download('punkt')\n",
        "nltk.download('wordnet')\n",
        "nltk.download('stopwords')\n",
        "!pip install -U seaborn\n",
        "from seaborn import lineplot"
      ]
    },
    {
      "cell_type": "code",
      "execution_count": null,
      "metadata": {
        "colab": {
          "base_uri": "https://localhost:8080/"
        },
        "id": "EM88-EijfqXK",
        "outputId": "e78b3561-22d8-4e1b-cde1-c54fc9a8f5a5"
      },
      "outputs": [
        {
          "output_type": "stream",
          "name": "stdout",
          "text": [
            "cp: cannot stat 'kaggle.json': No such file or directory\n"
          ]
        }
      ],
      "source": [
        "!mkdir -p ~/.kaggle\n",
        "!cp kaggle.json ~/.kaggle/"
      ]
    },
    {
      "cell_type": "code",
      "execution_count": null,
      "metadata": {
        "colab": {
          "base_uri": "https://localhost:8080/"
        },
        "id": "rNfJUUaQluHR",
        "outputId": "fe2230ac-8347-4359-c98f-755b2a274434"
      },
      "outputs": [
        {
          "output_type": "stream",
          "name": "stdout",
          "text": [
            "Warning: Looks like you're using an outdated API Version, please consider updating (server 1.6.14 / client 1.6.12)\n",
            "Dataset URL: https://www.kaggle.com/datasets/uciml/news-aggregator-dataset\n",
            "License(s): CC0-1.0\n",
            "Downloading news-aggregator-dataset.zip to /content\n",
            " 79% 22.0M/28.0M [00:00<00:00, 113MB/s] \n",
            "100% 28.0M/28.0M [00:00<00:00, 119MB/s]\n"
          ]
        }
      ],
      "source": [
        "!kaggle datasets download -d uciml/news-aggregator-dataset"
      ]
    },
    {
      "cell_type": "code",
      "execution_count": null,
      "metadata": {
        "id": "px3MW60YnoQo"
      },
      "outputs": [],
      "source": [
        "import zipfile\n",
        "zip_ref = zipfile.ZipFile('/content/news-aggregator-dataset.zip', 'r')\n",
        "\n",
        "zip_ref.extractall('/content')\n",
        "zip_ref.close()"
      ]
    },
    {
      "cell_type": "code",
      "execution_count": null,
      "metadata": {
        "colab": {
          "base_uri": "https://localhost:8080/",
          "height": 206
        },
        "id": "I1yx03Vjn_yH",
        "outputId": "6d20bc0b-14a0-4280-b5a6-80b5f4f21d12"
      },
      "outputs": [
        {
          "output_type": "execute_result",
          "data": {
            "text/plain": [
              "                                               TITLE          PUBLISHER  \\\n",
              "0  Fed official says weak data caused by weather,...  Los Angeles Times   \n",
              "1  Fed's Charles Plosser sees high bar for change...           Livemint   \n",
              "2  US open: Stocks fall after Fed official hints ...       IFA Magazine   \n",
              "3  Fed risks falling 'behind the curve', Charles ...       IFA Magazine   \n",
              "4  Fed's Plosser: Nasty Weather Has Curbed Job Gr...          Moneynews   \n",
              "\n",
              "  CATEGORY             HOSTNAME               TIMESTAMP  \n",
              "0        b      www.latimes.com 2014-03-10 16:52:50.698  \n",
              "1        b     www.livemint.com 2014-03-10 16:52:51.207  \n",
              "2        b  www.ifamagazine.com 2014-03-10 16:52:51.550  \n",
              "3        b  www.ifamagazine.com 2014-03-10 16:52:51.793  \n",
              "4        b    www.moneynews.com 2014-03-10 16:52:52.027  "
            ],
            "text/html": [
              "\n",
              "  <div id=\"df-aafa0c51-bf0c-406f-865e-ebc367b1c7dc\" class=\"colab-df-container\">\n",
              "    <div>\n",
              "<style scoped>\n",
              "    .dataframe tbody tr th:only-of-type {\n",
              "        vertical-align: middle;\n",
              "    }\n",
              "\n",
              "    .dataframe tbody tr th {\n",
              "        vertical-align: top;\n",
              "    }\n",
              "\n",
              "    .dataframe thead th {\n",
              "        text-align: right;\n",
              "    }\n",
              "</style>\n",
              "<table border=\"1\" class=\"dataframe\">\n",
              "  <thead>\n",
              "    <tr style=\"text-align: right;\">\n",
              "      <th></th>\n",
              "      <th>TITLE</th>\n",
              "      <th>PUBLISHER</th>\n",
              "      <th>CATEGORY</th>\n",
              "      <th>HOSTNAME</th>\n",
              "      <th>TIMESTAMP</th>\n",
              "    </tr>\n",
              "  </thead>\n",
              "  <tbody>\n",
              "    <tr>\n",
              "      <th>0</th>\n",
              "      <td>Fed official says weak data caused by weather,...</td>\n",
              "      <td>Los Angeles Times</td>\n",
              "      <td>b</td>\n",
              "      <td>www.latimes.com</td>\n",
              "      <td>2014-03-10 16:52:50.698</td>\n",
              "    </tr>\n",
              "    <tr>\n",
              "      <th>1</th>\n",
              "      <td>Fed's Charles Plosser sees high bar for change...</td>\n",
              "      <td>Livemint</td>\n",
              "      <td>b</td>\n",
              "      <td>www.livemint.com</td>\n",
              "      <td>2014-03-10 16:52:51.207</td>\n",
              "    </tr>\n",
              "    <tr>\n",
              "      <th>2</th>\n",
              "      <td>US open: Stocks fall after Fed official hints ...</td>\n",
              "      <td>IFA Magazine</td>\n",
              "      <td>b</td>\n",
              "      <td>www.ifamagazine.com</td>\n",
              "      <td>2014-03-10 16:52:51.550</td>\n",
              "    </tr>\n",
              "    <tr>\n",
              "      <th>3</th>\n",
              "      <td>Fed risks falling 'behind the curve', Charles ...</td>\n",
              "      <td>IFA Magazine</td>\n",
              "      <td>b</td>\n",
              "      <td>www.ifamagazine.com</td>\n",
              "      <td>2014-03-10 16:52:51.793</td>\n",
              "    </tr>\n",
              "    <tr>\n",
              "      <th>4</th>\n",
              "      <td>Fed's Plosser: Nasty Weather Has Curbed Job Gr...</td>\n",
              "      <td>Moneynews</td>\n",
              "      <td>b</td>\n",
              "      <td>www.moneynews.com</td>\n",
              "      <td>2014-03-10 16:52:52.027</td>\n",
              "    </tr>\n",
              "  </tbody>\n",
              "</table>\n",
              "</div>\n",
              "    <div class=\"colab-df-buttons\">\n",
              "\n",
              "  <div class=\"colab-df-container\">\n",
              "    <button class=\"colab-df-convert\" onclick=\"convertToInteractive('df-aafa0c51-bf0c-406f-865e-ebc367b1c7dc')\"\n",
              "            title=\"Convert this dataframe to an interactive table.\"\n",
              "            style=\"display:none;\">\n",
              "\n",
              "  <svg xmlns=\"http://www.w3.org/2000/svg\" height=\"24px\" viewBox=\"0 -960 960 960\">\n",
              "    <path d=\"M120-120v-720h720v720H120Zm60-500h600v-160H180v160Zm220 220h160v-160H400v160Zm0 220h160v-160H400v160ZM180-400h160v-160H180v160Zm440 0h160v-160H620v160ZM180-180h160v-160H180v160Zm440 0h160v-160H620v160Z\"/>\n",
              "  </svg>\n",
              "    </button>\n",
              "\n",
              "  <style>\n",
              "    .colab-df-container {\n",
              "      display:flex;\n",
              "      gap: 12px;\n",
              "    }\n",
              "\n",
              "    .colab-df-convert {\n",
              "      background-color: #E8F0FE;\n",
              "      border: none;\n",
              "      border-radius: 50%;\n",
              "      cursor: pointer;\n",
              "      display: none;\n",
              "      fill: #1967D2;\n",
              "      height: 32px;\n",
              "      padding: 0 0 0 0;\n",
              "      width: 32px;\n",
              "    }\n",
              "\n",
              "    .colab-df-convert:hover {\n",
              "      background-color: #E2EBFA;\n",
              "      box-shadow: 0px 1px 2px rgba(60, 64, 67, 0.3), 0px 1px 3px 1px rgba(60, 64, 67, 0.15);\n",
              "      fill: #174EA6;\n",
              "    }\n",
              "\n",
              "    .colab-df-buttons div {\n",
              "      margin-bottom: 4px;\n",
              "    }\n",
              "\n",
              "    [theme=dark] .colab-df-convert {\n",
              "      background-color: #3B4455;\n",
              "      fill: #D2E3FC;\n",
              "    }\n",
              "\n",
              "    [theme=dark] .colab-df-convert:hover {\n",
              "      background-color: #434B5C;\n",
              "      box-shadow: 0px 1px 3px 1px rgba(0, 0, 0, 0.15);\n",
              "      filter: drop-shadow(0px 1px 2px rgba(0, 0, 0, 0.3));\n",
              "      fill: #FFFFFF;\n",
              "    }\n",
              "  </style>\n",
              "\n",
              "    <script>\n",
              "      const buttonEl =\n",
              "        document.querySelector('#df-aafa0c51-bf0c-406f-865e-ebc367b1c7dc button.colab-df-convert');\n",
              "      buttonEl.style.display =\n",
              "        google.colab.kernel.accessAllowed ? 'block' : 'none';\n",
              "\n",
              "      async function convertToInteractive(key) {\n",
              "        const element = document.querySelector('#df-aafa0c51-bf0c-406f-865e-ebc367b1c7dc');\n",
              "        const dataTable =\n",
              "          await google.colab.kernel.invokeFunction('convertToInteractive',\n",
              "                                                    [key], {});\n",
              "        if (!dataTable) return;\n",
              "\n",
              "        const docLinkHtml = 'Like what you see? Visit the ' +\n",
              "          '<a target=\"_blank\" href=https://colab.research.google.com/notebooks/data_table.ipynb>data table notebook</a>'\n",
              "          + ' to learn more about interactive tables.';\n",
              "        element.innerHTML = '';\n",
              "        dataTable['output_type'] = 'display_data';\n",
              "        await google.colab.output.renderOutput(dataTable, element);\n",
              "        const docLink = document.createElement('div');\n",
              "        docLink.innerHTML = docLinkHtml;\n",
              "        element.appendChild(docLink);\n",
              "      }\n",
              "    </script>\n",
              "  </div>\n",
              "\n",
              "\n",
              "<div id=\"df-d3d20e97-a99b-42d4-95bc-5c729e9cda85\">\n",
              "  <button class=\"colab-df-quickchart\" onclick=\"quickchart('df-d3d20e97-a99b-42d4-95bc-5c729e9cda85')\"\n",
              "            title=\"Suggest charts\"\n",
              "            style=\"display:none;\">\n",
              "\n",
              "<svg xmlns=\"http://www.w3.org/2000/svg\" height=\"24px\"viewBox=\"0 0 24 24\"\n",
              "     width=\"24px\">\n",
              "    <g>\n",
              "        <path d=\"M19 3H5c-1.1 0-2 .9-2 2v14c0 1.1.9 2 2 2h14c1.1 0 2-.9 2-2V5c0-1.1-.9-2-2-2zM9 17H7v-7h2v7zm4 0h-2V7h2v10zm4 0h-2v-4h2v4z\"/>\n",
              "    </g>\n",
              "</svg>\n",
              "  </button>\n",
              "\n",
              "<style>\n",
              "  .colab-df-quickchart {\n",
              "      --bg-color: #E8F0FE;\n",
              "      --fill-color: #1967D2;\n",
              "      --hover-bg-color: #E2EBFA;\n",
              "      --hover-fill-color: #174EA6;\n",
              "      --disabled-fill-color: #AAA;\n",
              "      --disabled-bg-color: #DDD;\n",
              "  }\n",
              "\n",
              "  [theme=dark] .colab-df-quickchart {\n",
              "      --bg-color: #3B4455;\n",
              "      --fill-color: #D2E3FC;\n",
              "      --hover-bg-color: #434B5C;\n",
              "      --hover-fill-color: #FFFFFF;\n",
              "      --disabled-bg-color: #3B4455;\n",
              "      --disabled-fill-color: #666;\n",
              "  }\n",
              "\n",
              "  .colab-df-quickchart {\n",
              "    background-color: var(--bg-color);\n",
              "    border: none;\n",
              "    border-radius: 50%;\n",
              "    cursor: pointer;\n",
              "    display: none;\n",
              "    fill: var(--fill-color);\n",
              "    height: 32px;\n",
              "    padding: 0;\n",
              "    width: 32px;\n",
              "  }\n",
              "\n",
              "  .colab-df-quickchart:hover {\n",
              "    background-color: var(--hover-bg-color);\n",
              "    box-shadow: 0 1px 2px rgba(60, 64, 67, 0.3), 0 1px 3px 1px rgba(60, 64, 67, 0.15);\n",
              "    fill: var(--button-hover-fill-color);\n",
              "  }\n",
              "\n",
              "  .colab-df-quickchart-complete:disabled,\n",
              "  .colab-df-quickchart-complete:disabled:hover {\n",
              "    background-color: var(--disabled-bg-color);\n",
              "    fill: var(--disabled-fill-color);\n",
              "    box-shadow: none;\n",
              "  }\n",
              "\n",
              "  .colab-df-spinner {\n",
              "    border: 2px solid var(--fill-color);\n",
              "    border-color: transparent;\n",
              "    border-bottom-color: var(--fill-color);\n",
              "    animation:\n",
              "      spin 1s steps(1) infinite;\n",
              "  }\n",
              "\n",
              "  @keyframes spin {\n",
              "    0% {\n",
              "      border-color: transparent;\n",
              "      border-bottom-color: var(--fill-color);\n",
              "      border-left-color: var(--fill-color);\n",
              "    }\n",
              "    20% {\n",
              "      border-color: transparent;\n",
              "      border-left-color: var(--fill-color);\n",
              "      border-top-color: var(--fill-color);\n",
              "    }\n",
              "    30% {\n",
              "      border-color: transparent;\n",
              "      border-left-color: var(--fill-color);\n",
              "      border-top-color: var(--fill-color);\n",
              "      border-right-color: var(--fill-color);\n",
              "    }\n",
              "    40% {\n",
              "      border-color: transparent;\n",
              "      border-right-color: var(--fill-color);\n",
              "      border-top-color: var(--fill-color);\n",
              "    }\n",
              "    60% {\n",
              "      border-color: transparent;\n",
              "      border-right-color: var(--fill-color);\n",
              "    }\n",
              "    80% {\n",
              "      border-color: transparent;\n",
              "      border-right-color: var(--fill-color);\n",
              "      border-bottom-color: var(--fill-color);\n",
              "    }\n",
              "    90% {\n",
              "      border-color: transparent;\n",
              "      border-bottom-color: var(--fill-color);\n",
              "    }\n",
              "  }\n",
              "</style>\n",
              "\n",
              "  <script>\n",
              "    async function quickchart(key) {\n",
              "      const quickchartButtonEl =\n",
              "        document.querySelector('#' + key + ' button');\n",
              "      quickchartButtonEl.disabled = true;  // To prevent multiple clicks.\n",
              "      quickchartButtonEl.classList.add('colab-df-spinner');\n",
              "      try {\n",
              "        const charts = await google.colab.kernel.invokeFunction(\n",
              "            'suggestCharts', [key], {});\n",
              "      } catch (error) {\n",
              "        console.error('Error during call to suggestCharts:', error);\n",
              "      }\n",
              "      quickchartButtonEl.classList.remove('colab-df-spinner');\n",
              "      quickchartButtonEl.classList.add('colab-df-quickchart-complete');\n",
              "    }\n",
              "    (() => {\n",
              "      let quickchartButtonEl =\n",
              "        document.querySelector('#df-d3d20e97-a99b-42d4-95bc-5c729e9cda85 button');\n",
              "      quickchartButtonEl.style.display =\n",
              "        google.colab.kernel.accessAllowed ? 'block' : 'none';\n",
              "    })();\n",
              "  </script>\n",
              "</div>\n",
              "\n",
              "    </div>\n",
              "  </div>\n"
            ],
            "application/vnd.google.colaboratory.intrinsic+json": {
              "type": "dataframe",
              "summary": "{\n  \"name\": \"news[[\\\"TITLE\\\", \\\"PUBLISHER\\\", \\\"CATEGORY\\\", \\\"HOSTNAME\\\", \\\"TIMESTAMP\\\"]]\",\n  \"rows\": 5,\n  \"fields\": [\n    {\n      \"column\": \"TITLE\",\n      \"properties\": {\n        \"dtype\": \"string\",\n        \"num_unique_values\": 5,\n        \"samples\": [\n          \"Fed's Charles Plosser sees high bar for change in pace of tapering\",\n          \"Fed's Plosser: Nasty Weather Has Curbed Job Growth\",\n          \"US open: Stocks fall after Fed official hints at accelerated tapering\"\n        ],\n        \"semantic_type\": \"\",\n        \"description\": \"\"\n      }\n    },\n    {\n      \"column\": \"PUBLISHER\",\n      \"properties\": {\n        \"dtype\": \"string\",\n        \"num_unique_values\": 4,\n        \"samples\": [\n          \"Livemint\",\n          \"Moneynews\",\n          \"Los Angeles Times\"\n        ],\n        \"semantic_type\": \"\",\n        \"description\": \"\"\n      }\n    },\n    {\n      \"column\": \"CATEGORY\",\n      \"properties\": {\n        \"dtype\": \"category\",\n        \"num_unique_values\": 1,\n        \"samples\": [\n          \"b\"\n        ],\n        \"semantic_type\": \"\",\n        \"description\": \"\"\n      }\n    },\n    {\n      \"column\": \"HOSTNAME\",\n      \"properties\": {\n        \"dtype\": \"string\",\n        \"num_unique_values\": 4,\n        \"samples\": [\n          \"www.livemint.com\"\n        ],\n        \"semantic_type\": \"\",\n        \"description\": \"\"\n      }\n    },\n    {\n      \"column\": \"TIMESTAMP\",\n      \"properties\": {\n        \"dtype\": \"date\",\n        \"min\": \"2014-03-10 16:52:50.698000\",\n        \"max\": \"2014-03-10 16:52:52.027000\",\n        \"num_unique_values\": 5,\n        \"samples\": [\n          \"2014-03-10 16:52:51.207000\"\n        ],\n        \"semantic_type\": \"\",\n        \"description\": \"\"\n      }\n    }\n  ]\n}"
            }
          },
          "metadata": {},
          "execution_count": 6
        }
      ],
      "source": [
        "import pandas as pd\n",
        "import seaborn as sns\n",
        "import matplotlib.pyplot as plt\n",
        "import string\n",
        "import multiprocessing\n",
        "\n",
        "news = pd.read_csv(\"uci-news-aggregator.csv\")\n",
        "\n",
        "# Convert date\n",
        "news['TIMESTAMP'] = pd.to_datetime(news['TIMESTAMP'], unit='ms')\n",
        "\n",
        "# columns.\n",
        "news[[\"TITLE\", \"PUBLISHER\", \"CATEGORY\", \"HOSTNAME\", \"TIMESTAMP\"]].head()"
      ]
    },
    {
      "cell_type": "code",
      "execution_count": null,
      "metadata": {
        "colab": {
          "base_uri": "https://localhost:8080/"
        },
        "id": "ERSTLeBmoLo2",
        "outputId": "847bd5d6-6b88-46bd-d098-dcef6215c91a"
      },
      "outputs": [
        {
          "output_type": "stream",
          "name": "stdout",
          "text": [
            "dataset timeline starts at 10/3/2014 and ends at 28/8/2014\n"
          ]
        }
      ],
      "source": [
        "def date_printer(date):\n",
        "    return \"{}/{}/{}\".format(date.day, date.month, date.year)\n",
        "\n",
        "start, end = news['TIMESTAMP'].min(), news['TIMESTAMP'].max()\n",
        "print(\"dataset timeline starts at {} and ends at {}\".format(date_printer(start), date_printer(end)))"
      ]
    },
    {
      "cell_type": "code",
      "execution_count": null,
      "metadata": {
        "colab": {
          "base_uri": "https://localhost:8080/",
          "height": 472
        },
        "id": "KUfZpMHfoS7C",
        "outputId": "80567f47-a97c-4c78-a23c-4fd6a4ca50cc"
      },
      "outputs": [
        {
          "output_type": "display_data",
          "data": {
            "text/plain": [
              "<Figure size 640x480 with 1 Axes>"
            ],
            "image/png": "[encoded data removed]"
          },
          "metadata": {}
        }
      ],
      "source": [
        "news['MONTH'] = news['TIMESTAMP'].apply(lambda date: date.month)\n",
        "news['DAY'] = news['TIMESTAMP'].apply(lambda date: date.day)\n",
        "\n",
        "# Some months have 30 and others have 30 days. The first and last months in our dataset and not whole.\n",
        "month_days = {\n",
        "    3: 21,\n",
        "    4: 30,\n",
        "    5: 31,\n",
        "    6: 30,\n",
        "    7: 31,\n",
        "    8: 27\n",
        "}\n",
        "articles_per_day = {}\n",
        "for month in month_days:\n",
        "    n_articles = len(news[news['MONTH'] == month])\n",
        "    articles_per_day[month] = n_articles / month_days[month]\n",
        "\n",
        "ax = sns.barplot(x=list(articles_per_day.keys()), y=list(articles_per_day.values()))\n",
        "ax.set_title(\"Normalized Counts\")\n",
        "ax.set_xlabel(\"Month\")\n",
        "ax.set_ylabel(\"Articles Per Day\")\n",
        "plt.show()"
      ]
    },
    {
      "cell_type": "code",
      "execution_count": null,
      "metadata": {
        "colab": {
          "base_uri": "https://localhost:8080/",
          "height": 573
        },
        "id": "2zND1JGhohRv",
        "outputId": "20e5e643-b845-45fb-fced-5d7ca6c30deb"
      },
      "outputs": [
        {
          "output_type": "stream",
          "name": "stderr",
          "text": [
            "<ipython-input-9-4c4f528d7744>:21: UserWarning: FixedFormatter should only be used together with FixedLocator\n",
            "  ax.set_xticklabels([cat_map[label.get_text()] for label in ax.get_xticklabels()], rotation=45)\n"
          ]
        },
        {
          "output_type": "display_data",
          "data": {
            "text/plain": [
              "<Figure size 640x480 with 1 Axes>"
            ],
            "image/png": "[encoded data removed]"
          },
          "metadata": {}
        }
      ],
      "source": [
        "import seaborn as sns\n",
        "import matplotlib.pyplot as plt\n",
        "\n",
        "# Define the category mapping\n",
        "cat_map = {\n",
        "    'b': 'Business',\n",
        "    't': 'Science',\n",
        "    'e': 'Entertainment',\n",
        "    'm': 'Health'\n",
        "}\n",
        "\n",
        "# Plot the count of each category\n",
        "ax = sns.countplot(x='CATEGORY', data=news)\n",
        "\n",
        "# Set the title and labels for the plot\n",
        "ax.set_title(\"Category Counts\")\n",
        "ax.set_xlabel(\"Category\")\n",
        "ax.set_ylabel(\"Count\")\n",
        "\n",
        "# Manipulate the x-axis labels\n",
        "ax.set_xticklabels([cat_map[label.get_text()] for label in ax.get_xticklabels()], rotation=45)\n",
        "\n",
        "# Show the plot\n",
        "plt.show()\n",
        "\n",
        "\n"
      ]
    },
    {
      "cell_type": "code",
      "execution_count": null,
      "metadata": {
        "colab": {
          "base_uri": "https://localhost:8080/"
        },
        "id": "wuVamv--ohvE",
        "outputId": "751e3172-1e5f-4360-ed2f-6d9f58675e3a"
      },
      "outputs": [
        {
          "output_type": "stream",
          "name": "stdout",
          "text": [
            "There are \u001b[1;31m10985\u001b[0m different publishers. Below some of the most common:\n",
            "   \u001b[1;31mReuters\u001b[0m posted \u001b[1;31m3902\u001b[0m articles\n",
            "   \u001b[1;31mHuffington Post\u001b[0m posted \u001b[1;31m2455\u001b[0m articles\n",
            "   \u001b[1;31mBusinessweek\u001b[0m posted \u001b[1;31m2395\u001b[0m articles\n",
            "   \u001b[1;31mContactmusic.com\u001b[0m posted \u001b[1;31m2334\u001b[0m articles\n",
            "   \u001b[1;31mDaily Mail\u001b[0m posted \u001b[1;31m2254\u001b[0m articles\n"
          ]
        }
      ],
      "source": [
        "from collections import Counter\n",
        "\n",
        "# style print output\n",
        "def emphasize(s):\n",
        "\n",
        "    red = '\\x1b[1;31m'\n",
        "    stop = '\\x1b[0m'\n",
        "    return red + str(s) + stop\n",
        "\n",
        "nunique = news['PUBLISHER'].nunique()\n",
        "print(\"There are {} different publishers. Below some of the most common:\".format(emphasize(nunique)))\n",
        "for key, value in Counter(news['PUBLISHER']).most_common(5):\n",
        "    print(\"   {} posted {} articles\".format(emphasize(key), emphasize(value)))\n"
      ]
    },
    {
      "cell_type": "code",
      "execution_count": null,
      "metadata": {
        "id": "7bwCJyDZqcTK"
      },
      "outputs": [],
      "source": [
        "from nltk import word_tokenize\n",
        "from nltk.stem import WordNetLemmatizer\n",
        "from nltk.corpus import stopwords\n",
        "\n",
        "def tokenize(s, lemmatize=True, decode=False):\n",
        "\n",
        "    # NLTK data\n",
        "    try:\n",
        "        if decode:\n",
        "            s = s.decode(\"utf-8\")\n",
        "        tokens = word_tokenize(s.lower())\n",
        "    except LookupError:\n",
        "        nltk.download('punkt')\n",
        "        tokenize(s)\n",
        "\n",
        "\n",
        "\n",
        "    ignored = stopwords.words(\"english\") + [punct for punct in string.punctuation]\n",
        "    clean_tokens = [token for token in tokens if token not in ignored]\n",
        "\n",
        "    #lemmatize the output to reduce the number of unique words and address overfitting.\n",
        "    if lemmatize:\n",
        "        lemmatizer = WordNetLemmatizer()\n",
        "        return [lemmatizer.lemmatize(token) for token in clean_tokens]\n",
        "    return clean_tokens\n",
        "\n",
        "\n",
        "def test_tokenize():\n",
        "\n",
        "    # With lemmatization\n",
        "    text = \"Mr. X correctly diagnosed his patients.\"\n",
        "    expected_result = ['mr.', 'x', 'correctly', 'diagnosed', 'patient']\n",
        "    assert tokenize(text) == expected_result\n",
        "\n",
        "    # Without lemmatization\n",
        "    expected_result = ['mr.', 'x', 'correctly', 'diagnosed', 'patients']\n",
        "    assert tokenize(text, lemmatize=False) == expected_result\n",
        "\n",
        "test_tokenize()"
      ]
    },
    {
      "cell_type": "code",
      "execution_count": null,
      "metadata": {
        "colab": {
          "base_uri": "https://localhost:8080/"
        },
        "id": "dX9e8wvoqgeA",
        "outputId": "7f354009-064c-48fa-f445-42e2d3df7030"
      },
      "outputs": [
        {
          "output_type": "stream",
          "name": "stderr",
          "text": [
            "/usr/local/lib/python3.10/dist-packages/sklearn/feature_extraction/text.py:528: UserWarning: The parameter 'token_pattern' will not be used since 'tokenizer' is not None'\n",
            "  warnings.warn(\n"
          ]
        }
      ],
      "source": [
        "from sklearn.model_selection import train_test_split\n",
        "from sklearn.feature_extraction.text import CountVectorizer\n",
        "from sklearn.preprocessing import LabelEncoder\n",
        "\n",
        "# Bag of Words Representation using tokenizer.\n",
        "vectorizer = CountVectorizer(lowercase=False, tokenizer=tokenize)\n",
        "x = vectorizer.fit_transform(news['TITLE'])\n",
        "\n",
        "# Create numerical labels.\n",
        "encoder = LabelEncoder()\n",
        "y = encoder.fit_transform(news['CATEGORY'])\n",
        "\n",
        "encoder_mapping = dict(zip(encoder.transform(encoder.classes_), encoder.classes_))\n",
        "\n",
        "# Split into a training and test set.\n",
        "seed = 42\n",
        "x_train, x_test, y_train, y_test = train_test_split(x, y, test_size=0.2, random_state=seed)\n"
      ]
    },
    {
      "cell_type": "code",
      "execution_count": null,
      "metadata": {
        "id": "0-zVnoplrhQi",
        "colab": {
          "base_uri": "https://localhost:8080/",
          "height": 339
        },
        "outputId": "2938096b-1530-45d6-8d87-d779b094318f"
      },
      "outputs": [
        {
          "output_type": "error",
          "ename": "KeyboardInterrupt",
          "evalue": "",
          "traceback": [
            "\u001b[0;31m---------------------------------------------------------------------------\u001b[0m",
            "\u001b[0;31mKeyboardInterrupt\u001b[0m                         Traceback (most recent call last)",
            "\u001b[0;32m<ipython-input-14-181711fe2719>\u001b[0m in \u001b[0;36m<cell line: 12>\u001b[0;34m()\u001b[0m\n\u001b[1;32m     10\u001b[0m \u001b[0;34m\u001b[0m\u001b[0m\n\u001b[1;32m     11\u001b[0m \u001b[0mrf\u001b[0m \u001b[0;34m=\u001b[0m \u001b[0mRandomForestClassifier\u001b[0m\u001b[0;34m(\u001b[0m\u001b[0mn_jobs\u001b[0m\u001b[0;34m=\u001b[0m\u001b[0mn_cores\u001b[0m\u001b[0;34m)\u001b[0m\u001b[0;34m\u001b[0m\u001b[0;34m\u001b[0m\u001b[0m\n\u001b[0;32m---> 12\u001b[0;31m \u001b[0mrf\u001b[0m\u001b[0;34m.\u001b[0m\u001b[0mfit\u001b[0m\u001b[0;34m(\u001b[0m\u001b[0mx_train\u001b[0m\u001b[0;34m,\u001b[0m \u001b[0my_train\u001b[0m\u001b[0;34m)\u001b[0m\u001b[0;34m\u001b[0m\u001b[0;34m\u001b[0m\u001b[0m\n\u001b[0m\u001b[1;32m     13\u001b[0m \u001b[0mreport_accuracy\u001b[0m\u001b[0;34m(\u001b[0m\u001b[0mrf\u001b[0m\u001b[0;34m)\u001b[0m\u001b[0;34m\u001b[0m\u001b[0;34m\u001b[0m\u001b[0m\n",
            "\u001b[0;32m/usr/local/lib/python3.10/dist-packages/sklearn/ensemble/_forest.py\u001b[0m in \u001b[0;36mfit\u001b[0;34m(self, X, y, sample_weight)\u001b[0m\n\u001b[1;32m    471\u001b[0m             \u001b[0;31m# parallel_backend contexts set at a higher level,\u001b[0m\u001b[0;34m\u001b[0m\u001b[0;34m\u001b[0m\u001b[0m\n\u001b[1;32m    472\u001b[0m             \u001b[0;31m# since correctness does not rely on using threads.\u001b[0m\u001b[0;34m\u001b[0m\u001b[0;34m\u001b[0m\u001b[0m\n\u001b[0;32m--> 473\u001b[0;31m             trees = Parallel(\n\u001b[0m\u001b[1;32m    474\u001b[0m                 \u001b[0mn_jobs\u001b[0m\u001b[0;34m=\u001b[0m\u001b[0mself\u001b[0m\u001b[0;34m.\u001b[0m\u001b[0mn_jobs\u001b[0m\u001b[0;34m,\u001b[0m\u001b[0;34m\u001b[0m\u001b[0;34m\u001b[0m\u001b[0m\n\u001b[1;32m    475\u001b[0m                 \u001b[0mverbose\u001b[0m\u001b[0;34m=\u001b[0m\u001b[0mself\u001b[0m\u001b[0;34m.\u001b[0m\u001b[0mverbose\u001b[0m\u001b[0;34m,\u001b[0m\u001b[0;34m\u001b[0m\u001b[0;34m\u001b[0m\u001b[0m\n",
            "\u001b[0;32m/usr/local/lib/python3.10/dist-packages/sklearn/utils/parallel.py\u001b[0m in \u001b[0;36m__call__\u001b[0;34m(self, iterable)\u001b[0m\n\u001b[1;32m     61\u001b[0m             \u001b[0;32mfor\u001b[0m \u001b[0mdelayed_func\u001b[0m\u001b[0;34m,\u001b[0m \u001b[0margs\u001b[0m\u001b[0;34m,\u001b[0m \u001b[0mkwargs\u001b[0m \u001b[0;32min\u001b[0m \u001b[0miterable\u001b[0m\u001b[0;34m\u001b[0m\u001b[0;34m\u001b[0m\u001b[0m\n\u001b[1;32m     62\u001b[0m         )\n\u001b[0;32m---> 63\u001b[0;31m         \u001b[0;32mreturn\u001b[0m \u001b[0msuper\u001b[0m\u001b[0;34m(\u001b[0m\u001b[0;34m)\u001b[0m\u001b[0;34m.\u001b[0m\u001b[0m__call__\u001b[0m\u001b[0;34m(\u001b[0m\u001b[0miterable_with_config\u001b[0m\u001b[0;34m)\u001b[0m\u001b[0;34m\u001b[0m\u001b[0;34m\u001b[0m\u001b[0m\n\u001b[0m\u001b[1;32m     64\u001b[0m \u001b[0;34m\u001b[0m\u001b[0m\n\u001b[1;32m     65\u001b[0m \u001b[0;34m\u001b[0m\u001b[0m\n",
            "\u001b[0;32m/usr/local/lib/python3.10/dist-packages/joblib/parallel.py\u001b[0m in \u001b[0;36m__call__\u001b[0;34m(self, iterable)\u001b[0m\n\u001b[1;32m   2005\u001b[0m         \u001b[0mnext\u001b[0m\u001b[0;34m(\u001b[0m\u001b[0moutput\u001b[0m\u001b[0;34m)\u001b[0m\u001b[0;34m\u001b[0m\u001b[0;34m\u001b[0m\u001b[0m\n\u001b[1;32m   2006\u001b[0m \u001b[0;34m\u001b[0m\u001b[0m\n\u001b[0;32m-> 2007\u001b[0;31m         \u001b[0;32mreturn\u001b[0m \u001b[0moutput\u001b[0m \u001b[0;32mif\u001b[0m \u001b[0mself\u001b[0m\u001b[0;34m.\u001b[0m\u001b[0mreturn_generator\u001b[0m \u001b[0;32melse\u001b[0m \u001b[0mlist\u001b[0m\u001b[0;34m(\u001b[0m\u001b[0moutput\u001b[0m\u001b[0;34m)\u001b[0m\u001b[0;34m\u001b[0m\u001b[0;34m\u001b[0m\u001b[0m\n\u001b[0m\u001b[1;32m   2008\u001b[0m \u001b[0;34m\u001b[0m\u001b[0m\n\u001b[1;32m   2009\u001b[0m     \u001b[0;32mdef\u001b[0m \u001b[0m__repr__\u001b[0m\u001b[0;34m(\u001b[0m\u001b[0mself\u001b[0m\u001b[0;34m)\u001b[0m\u001b[0;34m:\u001b[0m\u001b[0;34m\u001b[0m\u001b[0;34m\u001b[0m\u001b[0m\n",
            "\u001b[0;32m/usr/local/lib/python3.10/dist-packages/joblib/parallel.py\u001b[0m in \u001b[0;36m_get_outputs\u001b[0;34m(self, iterator, pre_dispatch)\u001b[0m\n\u001b[1;32m   1648\u001b[0m \u001b[0;34m\u001b[0m\u001b[0m\n\u001b[1;32m   1649\u001b[0m             \u001b[0;32mwith\u001b[0m \u001b[0mself\u001b[0m\u001b[0;34m.\u001b[0m\u001b[0m_backend\u001b[0m\u001b[0;34m.\u001b[0m\u001b[0mretrieval_context\u001b[0m\u001b[0;34m(\u001b[0m\u001b[0;34m)\u001b[0m\u001b[0;34m:\u001b[0m\u001b[0;34m\u001b[0m\u001b[0;34m\u001b[0m\u001b[0m\n\u001b[0;32m-> 1650\u001b[0;31m                 \u001b[0;32myield\u001b[0m \u001b[0;32mfrom\u001b[0m \u001b[0mself\u001b[0m\u001b[0;34m.\u001b[0m\u001b[0m_retrieve\u001b[0m\u001b[0;34m(\u001b[0m\u001b[0;34m)\u001b[0m\u001b[0;34m\u001b[0m\u001b[0;34m\u001b[0m\u001b[0m\n\u001b[0m\u001b[1;32m   1651\u001b[0m \u001b[0;34m\u001b[0m\u001b[0m\n\u001b[1;32m   1652\u001b[0m         \u001b[0;32mexcept\u001b[0m \u001b[0mGeneratorExit\u001b[0m\u001b[0;34m:\u001b[0m\u001b[0;34m\u001b[0m\u001b[0;34m\u001b[0m\u001b[0m\n",
            "\u001b[0;32m/usr/local/lib/python3.10/dist-packages/joblib/parallel.py\u001b[0m in \u001b[0;36m_retrieve\u001b[0;34m(self)\u001b[0m\n\u001b[1;32m   1760\u001b[0m                 (self._jobs[0].get_status(\n\u001b[1;32m   1761\u001b[0m                     timeout=self.timeout) == TASK_PENDING)):\n\u001b[0;32m-> 1762\u001b[0;31m                 \u001b[0mtime\u001b[0m\u001b[0;34m.\u001b[0m\u001b[0msleep\u001b[0m\u001b[0;34m(\u001b[0m\u001b[0;36m0.01\u001b[0m\u001b[0;34m)\u001b[0m\u001b[0;34m\u001b[0m\u001b[0;34m\u001b[0m\u001b[0m\n\u001b[0m\u001b[1;32m   1763\u001b[0m                 \u001b[0;32mcontinue\u001b[0m\u001b[0;34m\u001b[0m\u001b[0;34m\u001b[0m\u001b[0m\n\u001b[1;32m   1764\u001b[0m \u001b[0;34m\u001b[0m\u001b[0m\n",
            "\u001b[0;31mKeyboardInterrupt\u001b[0m: "
          ]
        }
      ],
      "source": [
        "from sklearn.ensemble import RandomForestClassifier\n",
        "\n",
        "def report_accuracy(trained_clf):\n",
        "    train_score = trained_clf.score(x_train, y_train)\n",
        "    test_score = trained_clf.score(x_test, y_test)\n",
        "    print(\"Training set accuracy score is: {}\".format(emphasize(train_score)))\n",
        "    print(\"Test set accuracy score is: {}\".format(emphasize(test_score)))\n",
        "\n",
        "n_cores = max(multiprocessing.cpu_count(), 1)\n",
        "\n",
        "rf = RandomForestClassifier(n_jobs=n_cores)\n",
        "rf.fit(x_train, y_train)\n",
        "report_accuracy(rf)\n"
      ]
    },
    {
      "cell_type": "code",
      "execution_count": null,
      "metadata": {
        "id": "Wk4qhmjorod2"
      },
      "outputs": [],
      "source": [
        "#confusionmatrix\n",
        "from sklearn.metrics import confusion_matrix\n",
        "import numpy as np\n",
        "\n",
        "def print_confusion_matrix(confusion_matrix, class_names, figsize = (10,7), fontsize=14, normalize=False):\n",
        "\n",
        "    if normalize:\n",
        "        confusion_matrix = confusion_matrix.astype('float') / confusion_matrix.sum(axis=1)[:, np.newaxis]\n",
        "        fmt = '.2f'\n",
        "        title = 'Normalized Confusion Matrix'\n",
        "    else:\n",
        "        fmt = 'd'\n",
        "        title = 'Confusion Matrix'\n",
        "\n",
        "    df_cm = pd.DataFrame(confusion_matrix, index=class_names, columns=class_names)\n",
        "    fig = plt.figure(figsize=figsize)\n",
        "    heatmap = sns.heatmap(df_cm, annot=True, fmt=fmt)\n",
        "\n",
        "    heatmap.yaxis.set_ticklabels(heatmap.yaxis.get_ticklabels(), rotation=0, ha='right', fontsize=fontsize)\n",
        "    heatmap.xaxis.set_ticklabels(heatmap.yaxis.get_ticklabels(), rotation=45, ha='right', fontsize=fontsize)\n",
        "    heatmap.set_ylabel('True label')\n",
        "    heatmap.set_xlabel('Predicted label')\n",
        "    heatmap.set_title(title)\n",
        "    return fig\n",
        "\n",
        "conf_mat = confusion_matrix(y_test, rf.predict(x_test))\n",
        "\n",
        "# readable labels\n",
        "labels = [cat_map[encoder_mapping[label]] for label in sorted(encoder_mapping.keys())]\n",
        "ax = print_confusion_matrix(conf_mat, labels, normalize=True)\n",
        "plt.show()"
      ]
    },
    {
      "cell_type": "code",
      "execution_count": null,
      "metadata": {
        "id": "1s8-5qG2v2y2"
      },
      "outputs": [],
      "source": [
        "\n",
        "\n",
        "news['WEEK'] = news['TIMESTAMP'].apply(lambda date: date.week)\n",
        "\n",
        "# Aggregate by week\n",
        "aggregated = news[['WEEK', 'MONTH', 'CATEGORY']]\n",
        "grouped = aggregated.groupby(['WEEK', 'CATEGORY']).size().reset_index(name='article_count')\n",
        "grouped['CATEGORY'] = grouped['CATEGORY'].apply(lambda x: cat_map[x])\n",
        "\n",
        "plt.figure(figsize=(7, 5))\n",
        "ax = sns.lineplot(x='WEEK', y='article_count', hue='CATEGORY', data=grouped, ci=None)\n",
        "ax.set_xticks(list(range(11, 36)))\n",
        "ax.set_xlabel(\"Week of the year\")\n",
        "ax.set_ylabel(\"Number of articles\")\n",
        "ax.set_title(\"Articles published per week\")\n",
        "plt.show()"
      ]
    },
    {
      "cell_type": "code",
      "execution_count": null,
      "metadata": {
        "id": "-lIpEEY2v56W"
      },
      "outputs": [],
      "source": [
        "\n",
        "from gensim import corpora\n",
        "import numpy\n",
        "import random\n",
        "\n",
        "# reuse the tokenizer to clean the text.\n",
        "clean_text = news['TITLE'].apply(tokenize)\n",
        "\n",
        "# Reproducible topics.\n",
        "numpy.random.seed(seed)\n",
        "random.seed(seed)\n",
        "\n",
        "# Create Dictionary and a Corpus (basic Gensim structures)\n",
        "id2word = corpora.Dictionary(clean_text)\n",
        "id2word.filter_extremes(no_below=5, no_above=0.05)\n",
        "print(id2word)\n",
        "corpus = [id2word.doc2bow(text) for text in clean_text]"
      ]
    },
    {
      "cell_type": "code",
      "source": [
        "!pip install gensim\n"
      ],
      "metadata": {
        "colab": {
          "base_uri": "https://localhost:8080/"
        },
        "id": "raVjwhot3ERA",
        "outputId": "d5f1026f-228b-408a-857a-5b648d89e9aa"
      },
      "execution_count": null,
      "outputs": [
        {
          "output_type": "stream",
          "name": "stdout",
          "text": [
            "Requirement already satisfied: gensim in /usr/local/lib/python3.10/dist-packages (4.3.2)\n",
            "Requirement already satisfied: numpy>=1.18.5 in /usr/local/lib/python3.10/dist-packages (from gensim) (1.25.2)\n",
            "Requirement already satisfied: scipy>=1.7.0 in /usr/local/lib/python3.10/dist-packages (from gensim) (1.11.4)\n",
            "Requirement already satisfied: smart-open>=1.8.1 in /usr/local/lib/python3.10/dist-packages (from gensim) (6.4.0)\n"
          ]
        }
      ]
    },
    {
      "cell_type": "code",
      "execution_count": null,
      "metadata": {
        "id": "2gavCJXov70V"
      },
      "outputs": [],
      "source": [
        "\n",
        "import gensim\n",
        "import re\n",
        "\n",
        "num_topics = 4\n",
        "lda_model = gensim.models.ldamodel.LdaModel(corpus=corpus, id2word=id2word, num_topics=num_topics, random_state=seed)\n",
        "\n",
        "# inspect the discovered topics.\n",
        "def print_model(model):\n",
        "\n",
        "    def print_topic(topic):\n",
        "        topic_no, topic_repr = topic\n",
        "        parts = topic_repr.split(\"+\")\n",
        "        words = [re.search('\"(.*)\"', part).group(1) for part in parts]\n",
        "        return \"{}: {}\".format(topic_no, words)\n",
        "\n",
        "    for topic in model.print_topics():\n",
        "        print(print_topic(topic))\n",
        "\n",
        "\n",
        "print_model(lda_model)"
      ]
    },
    {
      "cell_type": "code",
      "execution_count": null,
      "metadata": {
        "id": "pGTvhMMev9tq"
      },
      "outputs": [],
      "source": [
        "\n",
        "num_topics = 7\n",
        "lda_model = gensim.models.ldamodel.LdaModel(corpus=corpus, id2word=id2word, num_topics=num_topics, random_state=seed)\n",
        "print_model(lda_model)"
      ]
    },
    {
      "cell_type": "code",
      "execution_count": null,
      "metadata": {
        "id": "9X5AFo1_v_sV"
      },
      "outputs": [],
      "source": [
        "topic_mapping = {\n",
        "    0: \"Health\",\n",
        "    1: \"Other\",\n",
        "    2: \"Finance\",\n",
        "    3: \"Technology\",\n",
        "    4: \"Social Media\",\n",
        "    5: \"Technology\",\n",
        "    6: \"Entertainment\",\n",
        "\n",
        "}\n",
        "\n",
        "unseen_headlines = [\n",
        "    \"Twitter keeps your direct messages, even years after you delete them\",\n",
        "    \"Samsung releases new product - stock rises\",\n",
        "    \"View: Towards creating a profit-oriented and productive company\",\n",
        "    \"MTV to live telecast Emmy Awards 2024\",\n",
        "    \"Google,Apple may have multibillion-dollar US fine over privacy lapses\",\n",
        "    \"WHO warns against new virus\"\n",
        "]\n",
        "\n",
        "def rank_headline(headline):\n",
        "    bow_vector = id2word.doc2bow(tokenize(headline))\n",
        "    lda_vector = lda_model[bow_vector]\n",
        "    top_topic = topic_mapping[max(lda_vector, key=lambda item: item[1])[0]]\n",
        "    distribution = {topic_mapping[topic_no]: proportion for topic_no, proportion in lda_vector}\n",
        "    return top_topic, distribution\n",
        "\n",
        "for headline in unseen_headlines:\n",
        "    top_topic, distribution = rank_headline(headline)\n",
        "    print(\"{}: {} \\n Topic Mix: {}\\n\".format(headline, emphasize(top_topic), distribution))\n"
      ]
    },
    {
      "cell_type": "code",
      "execution_count": null,
      "metadata": {
        "id": "TSRCaNvUwCKe"
      },
      "outputs": [],
      "source": [
        "\n",
        "unseen_headlines = [\n",
        "    \"WHO issues new guidelines for Pregnancy care\",\n",
        "    \"Apple develops new IRIS technology in phone.\",\n",
        "    \"Beyonce to perform in Aakash Ambani's wedding \",\n",
        "    \"Stocks of Chinese Market collapses\"\n",
        "]\n",
        "\n",
        "\n",
        "for headline in unseen_headlines:\n",
        "    top_topic, distribution = rank_headline(headline)\n",
        "    print(\"{}: {} - {}\".format(headline, emphasize(top_topic), distribution))"
      ]
    },
    {
      "cell_type": "code",
      "source": [
        "from sklearn.model_selection import cross_val_score\n",
        "\n",
        "# Perform cross-validation with reduced folds and parallel processing\n",
        "cv_scores = cross_val_score(rf, x, y, cv=3, n_jobs=-1)\n",
        "\n",
        "# Print the cross-validation scores for each fold\n",
        "print(\"Cross-Validation Scores for each fold: \", cv_scores)\n",
        "\n",
        "# Print the mean accuracy across all folds\n",
        "print(\"Cross-Validation Mean Accuracy: {:.2f}\".format(cv_scores.mean()))\n"
      ],
      "metadata": {
        "id": "aPcHpYdgpfDf"
      },
      "execution_count": null,
      "outputs": []
    },
    {
      "cell_type": "code",
      "source": [
        "from sklearn.model_selection import cross_val_score\n",
        "\n",
        "# Assuming you have already defined and trained your Random Forest model (rf)\n",
        "# and you have your features (x) and labels (y) ready\n",
        "\n",
        "# Perform cross-validation\n",
        "cv_scores = cross_val_score(rf, x, y, cv=5)\n",
        "\n",
        "# Print the cross-validation scores for each fold\n",
        "print(\"Cross-Validation Scores for each fold: \", cv_scores)\n",
        "\n",
        "# Print the mean accuracy across all folds\n",
        "print(\"Cross-Validation Mean Accuracy: {:.2f}\".format(cv_scores.mean()))\n",
        "\n",
        "\n",
        "\n",
        "\n"
      ],
      "metadata": {
        "id": "49_oMR8z7Zsh"
      },
      "execution_count": null,
      "outputs": []
    },
    {
      "cell_type": "code",
      "source": [
        "# Optionally, you can print other metrics as well\n",
        "print(\"Other metrics:\", cv_results.keys())\n"
      ],
      "metadata": {
        "id": "yZ2Hpdbm_4Ss"
      },
      "execution_count": null,
      "outputs": []
    }
  ],
  "metadata": {
    "colab": {
      "provenance": [],
      "authorship_tag": "ABX9TyNOEsBRnFSQx68+hkEFAZW/",
      "include_colab_link": true
    },
    "kernelspec": {
      "display_name": "Python 3",
      "name": "python3"
    },
    "language_info": {
      "name": "python"
    }
  },
  "nbformat": 4,
  "nbformat_minor": 0
}